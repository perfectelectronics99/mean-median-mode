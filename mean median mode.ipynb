{
 "cells": [
  {
   "cell_type": "markdown",
   "metadata": {},
   "source": [
    "# -MEAN MEDIAN MODE"
   ]
  },
  {
   "cell_type": "markdown",
   "metadata": {},
   "source": [
    "### The Mean, Median and Mode are the arithmetic average of a data set. This is found by adding the numbers in a data set and dividing by how many numbers there are. The median is the middle number in a data set when the numbers are listed in either ascending or descending order."
   ]
  },
  {
   "cell_type": "markdown",
   "metadata": {},
   "source": [
    "Mean - The average value\n",
    "\n",
    "Median - The mid point value\n",
    "\n",
    "Mode - The most common value"
   ]
  },
  {
   "cell_type": "markdown",
   "metadata": {},
   "source": [
    "## MEAN"
   ]
  },
  {
   "cell_type": "markdown",
   "metadata": {},
   "source": [
    "Mean is average of a given set of data. Let us consider below example\n",
    "\n",
    " 2,\\ 4,\\ 4,\\ 4,\\ 5,\\ 5,\\ 7,\\ 9 \n",
    "\n",
    "These eight data points have the mean (average) of 5:\n",
    "\n",
    " \\frac{2 + 4 + 4 + 4 + 5 + 5 + 7 + 9}{8} = 5. "
   ]
  },
  {
   "cell_type": "code",
   "execution_count": 7,
   "metadata": {},
   "outputs": [],
   "source": [
    "score = (45,3,45,67,85,35,26,78,97,47,97)"
   ]
  },
  {
   "cell_type": "code",
   "execution_count": 8,
   "metadata": {},
   "outputs": [
    {
     "name": "stdout",
     "output_type": "stream",
     "text": [
      "56.81818181818182\n"
     ]
    }
   ],
   "source": [
    "import numpy\n",
    "\n",
    "x = numpy.mean(score)\n",
    "\n",
    "print(x)"
   ]
  },
  {
   "cell_type": "markdown",
   "metadata": {},
   "source": [
    "## MEDIAN"
   ]
  },
  {
   "cell_type": "code",
   "execution_count": 9,
   "metadata": {},
   "outputs": [],
   "source": [
    "money = (24,65,76,35,79,98,90,35,35,67,8)"
   ]
  },
  {
   "cell_type": "code",
   "execution_count": 10,
   "metadata": {},
   "outputs": [
    {
     "name": "stdout",
     "output_type": "stream",
     "text": [
      "86.5\n"
     ]
    }
   ],
   "source": [
    "import numpy\n",
    "\n",
    "money = [99,86,87,88,111,86,103,87,94,78,77,85,86,45]\n",
    "\n",
    "x = numpy.median(money)\n",
    "\n",
    "print(x)"
   ]
  },
  {
   "cell_type": "code",
   "execution_count": 10,
   "metadata": {},
   "outputs": [
    {
     "data": {
      "text/plain": [
       "95.0"
      ]
     },
     "execution_count": 10,
     "metadata": {},
     "output_type": "execute_result"
    }
   ],
   "source": [
    "(87+103)/2"
   ]
  },
  {
   "cell_type": "markdown",
   "metadata": {},
   "source": [
    "## MODE\n"
   ]
  },
  {
   "cell_type": "code",
   "execution_count": 15,
   "metadata": {},
   "outputs": [],
   "source": [
    "runs = (34,57,82,57,83,75,34,68,99,0,86,88,34,34,34)"
   ]
  },
  {
   "cell_type": "code",
   "execution_count": 16,
   "metadata": {},
   "outputs": [
    {
     "name": "stdout",
     "output_type": "stream",
     "text": [
      "ModeResult(mode=array([34]), count=array([5]))\n"
     ]
    }
   ],
   "source": [
    "from scipy  import stats\n",
    "\n",
    "\n",
    "x = stats.mode(runs)\n",
    "\n",
    "print(x)"
   ]
  },
  {
   "cell_type": "markdown",
   "metadata": {},
   "source": [
    "## What is Standard Deviation?\n",
    "Standard deviation is a number that describes how spread out the values are."
   ]
  },
  {
   "cell_type": "markdown",
   "metadata": {},
   "source": [
    "### Standard Deviation is square root of variance. It is a measure of the extent to which data varies from the mean."
   ]
  },
  {
   "cell_type": "code",
   "execution_count": 17,
   "metadata": {},
   "outputs": [
    {
     "name": "stdout",
     "output_type": "stream",
     "text": [
      "2.5495097567963922\n"
     ]
    }
   ],
   "source": [
    "import numpy as np\n",
    "\n",
    "### LOWER THE DIFFERENCE LOWER THE STANDARD DEVIATION\n",
    "\n",
    "\n",
    "score = [20,21,26,20,19,26,23,21]\n",
    "x =np.std(score)\n",
    "\n",
    "print(x)\n"
   ]
  },
  {
   "cell_type": "markdown",
   "metadata": {},
   "source": [
    "## ### HIGHER THE DIFFERENCE HIGHER THE  STANDARD DEVIATION\n",
    "\n"
   ]
  },
  {
   "cell_type": "code",
   "execution_count": 18,
   "metadata": {},
   "outputs": [
    {
     "name": "stdout",
     "output_type": "stream",
     "text": [
      "123.70267596465456\n"
     ]
    }
   ],
   "source": [
    "\n",
    "ages  = [12,58,98,11,58,6,122,456,324,98,55,37,45,89]\n",
    "x = np.std(ages)\n",
    "\n",
    "print(x)\n"
   ]
  },
  {
   "cell_type": "markdown",
   "metadata": {},
   "source": [
    "# VARIANCE"
   ]
  },
  {
   "cell_type": "code",
   "execution_count": 19,
   "metadata": {},
   "outputs": [
    {
     "name": "stdout",
     "output_type": "stream",
     "text": [
      "124.11422857142857\n"
     ]
    }
   ],
   "source": [
    "import statistics\n",
    "\n",
    "dataset = [21.14, 19, 11, 21, 19, 46, 29]\n",
    "\n",
    "output = statistics.variance(dataset) \n",
    "\n",
    "print(output).+"
   ]
  },
  {
   "cell_type": "markdown",
   "metadata": {},
   "source": [
    "## Variance is the sum of squares of differences between all numbers and means.\n",
    "## Deviation for above example. First, calculate the deviations of each data point from the mean, and square the result of each:\n",
    "\n",
    " \\begin{array}{lll} (2-5)^2 = (-3)^2 = 9 && (5-5)^2 = 0^2 = 0 \\\\ (4-5)^2 = (-1)^2 = 1 && (5-5)^2 = 0^2 = 0 \\\\ (4-5)^2 = (-1)^2 = 1 && (7-5)^2 = 2^2 = 4 \\\\ (4-5)^2 = (-1)^2 = 1 && (9-5)^2 = 4^2 = 16. \\\\ \\end{array} \n",
    "\n",
    "variance = \\frac{9 + 1 + 1 + 1 + 0 + 0 + 4 + 16}{8} = 4."
   ]
  },
  {
   "cell_type": "code",
   "execution_count": null,
   "metadata": {},
   "outputs": [],
   "source": [
    "#thanks all of you -----------------------------------"
   ]
  }
 ],
 "metadata": {
  "kernelspec": {
   "display_name": "Python 3",
   "language": "python",
   "name": "python3"
  },
  "language_info": {
   "codemirror_mode": {
    "name": "ipython",
    "version": 3
   },
   "file_extension": ".py",
   "mimetype": "text/x-python",
   "name": "python",
   "nbconvert_exporter": "python",
   "pygments_lexer": "ipython3",
   "version": "3.7.4"
  }
 },
 "nbformat": 4,
 "nbformat_minor": 2
}
